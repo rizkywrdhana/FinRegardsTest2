{
  "nbformat": 4,
  "nbformat_minor": 0,
  "metadata": {
    "colab": {
      "name": "Tugas Praktikum Week #6_Ruled Based_Muhammad Rizky Putra Wardhana.ipynb",
      "provenance": [],
      "collapsed_sections": [],
      "authorship_tag": "ABX9TyOxZJagpMZtEjkz6u+b4KvM",
      "include_colab_link": true
    },
    "kernelspec": {
      "name": "python3",
      "display_name": "Python 3"
    },
    "language_info": {
      "name": "python"
    }
  },
  "cells": [
    {
      "cell_type": "markdown",
      "metadata": {
        "id": "view-in-github",
        "colab_type": "text"
      },
      "source": [
        "<a href=\"https://colab.research.google.com/github/rizkywrdhana/FinRegardsTest2/blob/master/Project%20Week%20%236_Ruled%20Based_Muhammad%20Rizky%20Putra%20Wardhana.ipynb\" target=\"_parent\"><img src=\"https://colab.research.google.com/assets/colab-badge.svg\" alt=\"Open In Colab\"/></a>"
      ]
    },
    {
      "cell_type": "markdown",
      "metadata": {
        "id": "ujdyhSxvAFB_"
      },
      "source": [
        "## Ruled Based Rekomendasi Laptop"
      ]
    },
    {
      "cell_type": "code",
      "metadata": {
        "id": "MmVPK_U7_3M2"
      },
      "source": [
        "import os\n",
        "def introductory_display():\n",
        "  _ = os.system('clear')\n",
        "  print(\"Selamat Datang di SISTEM REKOMENDASI LAPTOP\")\n",
        "  print(\"Sistem ini berusaha untuk menentukan Laptop yang sesuai untuk anda\")\n",
        "  print(\"Sistem ini akan bertanya tentang kebutuhan, dan budget anda\")\n",
        "  print(\"Dari informasi yang didapatkan, sistem mampu menentukan Laptop yang tepat untuk anda\")"
      ],
      "execution_count": null,
      "outputs": []
    },
    {
      "cell_type": "code",
      "metadata": {
        "id": "O27hecy0A5u0"
      },
      "source": [
        "def get_return():\n",
        "  x = input('Silahkan press RETURN untuk melanjutkan')"
      ],
      "execution_count": null,
      "outputs": []
    },
    {
      "cell_type": "code",
      "metadata": {
        "id": "L8_CEB8iA-Qr"
      },
      "source": [
        "def ask_amount():\n",
        "  _ = os.system('clear')\n",
        "  print(\"Berapa total budget anda untuk membeli Laptop yang diinginkan?\")\n",
        "  print(\"Silahkan masukkan budget tanpa koma, contoh: 5000000!\")"
      ],
      "execution_count": null,
      "outputs": []
    },
    {
      "cell_type": "code",
      "metadata": {
        "id": "QQus-p4BBipH"
      },
      "source": [
        "def ask_kebutuhan():\n",
        "  _ = os.system('clear')\n",
        "  print(\"Untuk apa anda memerlukan Laptop baru? (Pilih nomor!) \")\n",
        "  print(\"1. Pekerjaan/Perkuliahan\")\n",
        "  print(\"2. Desain/Editor\")\n",
        "  print(\"3. Gaming\")"
      ],
      "execution_count": null,
      "outputs": []
    },
    {
      "cell_type": "code",
      "metadata": {
        "id": "rTO4EFJrDwVJ"
      },
      "source": [
        "def ask_battery():\n",
        "  _ = os.system('clear')\n",
        "  print(\"Apakah anda sering bepergian menggunakan Laptop: \")\n",
        "  print(\"Iya\")\n",
        "  print(\"Tidak\")"
      ],
      "execution_count": null,
      "outputs": []
    },
    {
      "cell_type": "code",
      "metadata": {
        "id": "z9QSQeFbEF3H"
      },
      "source": [
        "def is_kebutuhan1(keperluan):\n",
        "  if keperluan == 1:\n",
        "    return False\n",
        "  elif keperluan >= 2:\n",
        "    return True\n",
        "  else:\n",
        "    return None"
      ],
      "execution_count": null,
      "outputs": []
    },
    {
      "cell_type": "code",
      "metadata": {
        "id": "hFdv1j2qGdLR"
      },
      "source": [
        "def is_kebutuhan2(keperluan):\n",
        "  if keperluan == 2:\n",
        "    return False\n",
        "  elif keperluan >= 3:\n",
        "    return True\n",
        "  else:\n",
        "    return None"
      ],
      "execution_count": null,
      "outputs": []
    },
    {
      "cell_type": "code",
      "metadata": {
        "id": "I8eFa-IUGg8b"
      },
      "source": [
        "def is_battery(bepergian):\n",
        "  if bepergian == 'Iya':\n",
        "    return False\n",
        "  elif bepergian == 'Tidak':\n",
        "    return True\n",
        "  else:\n",
        "    return None"
      ],
      "execution_count": null,
      "outputs": []
    },
    {
      "cell_type": "code",
      "metadata": {
        "id": "QodxMA7GKdcB"
      },
      "source": [
        "def print_recommendation(rekomendasi):\n",
        "  _ = os.system('clear')\n",
        "  if rekomendasi == 1:\n",
        "    print('Rekomendasi Laptop untuk anda adalah HP 14s cf1051tu.')\n",
        "  elif rekomendasi == 2:\n",
        "    print('Rekomendasi Laptop untuk anda adalah Lenovo IdeaPad S145 15IWL.')\n",
        "  elif rekomendasi == 3:\n",
        "    print('Rekomendasi Laptop untuk anda adalah Lenovo S340 CTID.')\n",
        "  elif rekomendasi == 4:\n",
        "    print('Rekomendasi Laptop untuk anda adalah Lenovo Swift 3 SF314-41.')\n",
        "  elif rekomendasi == 5:\n",
        "    print('Rekomendasi Laptop untuk anda adalah Lenovo Yoga Slim 5i Pro.')\n",
        "  elif rekomendasi == 6:\n",
        "    print('Rekomendasi Laptop untuk anda adalah ASUS Vivobook 2021.')\n",
        "  elif rekomendasi == 7:\n",
        "    print('Rekomendasi Laptop untuk anda adalah Lenovo IdeaPad L340 F5ID.')\n",
        "  elif rekomendasi == 8:\n",
        "    print('Rekomendasi Laptop untuk anda adalah TUF FX505dd.')\n",
        "  elif rekomendasi == 9:\n",
        "    print('Rekomendasi Laptop untuk anda adalah Acer Nitro 5 2021.')\n",
        "  elif rekomendasi == 10:\n",
        "    print('Rekomendasi Laptop untuk anda adalah Lenovo Legion 5i.')\n",
        "  elif rekomendasi == 11:\n",
        "    print('Rekomendasi Laptop untuk anda adalah HP 14s dk0157au.')\n",
        "  elif rekomendasi == 12:\n",
        "    print('Rekomendasi Laptop untuk anda adalah Acer Aspire 5 Ryzen 4000.')\n",
        "  elif rekomendasi == 13:\n",
        "    print('Rekomendasi Laptop untuk anda adalah Acer Swift 3 SF314-42.')\n",
        "  elif rekomendasi == 14:\n",
        "    print('Rekomendasi Laptop untuk anda adalah ASUS Zenbook 14 UM425IA.')\n",
        "  elif rekomendasi == 15:\n",
        "    print('Rekomendasi Laptop untuk anda adalah BUDGET ANDA KURANG UNTUK KEPERLUAN INI.')\n",
        "  else:\n",
        "    print('Rekomendasi Laptop untuk anda adalah unknown.')"
      ],
      "execution_count": null,
      "outputs": []
    },
    {
      "cell_type": "code",
      "metadata": {
        "id": "2LduNENVLbrN"
      },
      "source": [
        "def print_reason(budget, keperluan_hasil, bepergian_hasil):\n",
        "  print('Alasan sistem merekomendasi laptop ini karena sesuai dengan keperluan anda.')"
      ],
      "execution_count": null,
      "outputs": []
    },
    {
      "cell_type": "code",
      "metadata": {
        "id": "QrUTmznLNApF"
      },
      "source": [
        "def ask_reset():\n",
        "  x = input(\"Untuk exit sistem ini silahkan ketik \\'e\\'. Jika ingin memulai dari awal ketik \\'r\\': \")\n",
        "  if(x == 'e'):\n",
        "    return False\n",
        "  elif(x == 'r'):\n",
        "    return True\n",
        "  else:\n",
        "    return False"
      ],
      "execution_count": null,
      "outputs": []
    },
    {
      "cell_type": "code",
      "metadata": {
        "colab": {
          "base_uri": "https://localhost:8080/"
        },
        "id": "qiYn8yJQG2Cs",
        "outputId": "c88e9a37-4808-40a7-800b-ebec29cfa0fc"
      },
      "source": [
        "#amount, kebutuhan, battery\n",
        "flag = True\n",
        "while flag:\n",
        "  introductory_display()\n",
        "  get_return()\n",
        "  ask_amount()\n",
        "  amount = int(input(''))\n",
        "  ask_kebutuhan()\n",
        "  keperluan = int(input(''))\n",
        "  ask_battery()\n",
        "  bepergian = input('')\n",
        "\n",
        "  #evaluation of budget\n",
        "  if amount < 5000000:\n",
        "    budget = 'low'\n",
        "  elif amount >= 5000000 and amount < 10000000:\n",
        "    budget = 'mid'\n",
        "  elif amount >= 10000000:\n",
        "    budget = 'high'\n",
        "  else:\n",
        "    budget = 'unknown'\n",
        "\n",
        "  #evaluation of needs \n",
        "  if keperluan == 1:\n",
        "    keperluan_hasil = 'ringan'\n",
        "  elif keperluan == 2:\n",
        "    keperluan_hasil = 'sedang'\n",
        "  elif keperluan == 3:\n",
        "    keperluan_hasil = 'berat'\n",
        "  else:\n",
        "    keperluan_hasil = 'unknown'\n",
        "\n",
        "  #evaluation of outgoing\n",
        "  if bepergian == 'Iya':\n",
        "    bepergian_hasil = 'irit'\n",
        "  elif bepergian == 'Tidak':\n",
        "    bepergian_hasil = 'boros'\n",
        "  else:\n",
        "    bepergian_hasil = 'unknown'\n",
        "\n",
        "  #evaluation of recommendation\n",
        "  if budget == 'low' and keperluan_hasil == 'ringan' and bepergian_hasil == 'irit':\n",
        "    rekomendasi = 1\n",
        "  elif budget == 'low' and keperluan_hasil == 'ringan' and bepergian_hasil == 'boros':\n",
        "    rekomendasi = 2\n",
        "  elif budget == 'low' and keperluan_hasil == 'sedang' and bepergian_hasil == 'irit':\n",
        "    rekomendasi = 15\n",
        "  elif budget == 'low' and keperluan_hasil == 'sedang' and bepergian_hasil == 'boros':\n",
        "    rekomendasi = 15\n",
        "  elif budget == 'low' and keperluan_hasil == 'berat' and bepergian_hasil == 'irit':\n",
        "    rekomendasi = 15\n",
        "  elif budget == 'low' and keperluan_hasil == 'berat' and bepergian_hasil == 'boros':\n",
        "    rekomendasi = 15\n",
        "  elif budget == 'mid' and keperluan_hasil == 'ringan' and bepergian_hasil == 'irit':\n",
        "    rekomendasi = 3\n",
        "  elif budget == 'mid' and keperluan_hasil == 'ringan' and bepergian_hasil == 'boros':\n",
        "    rekomendasi = 4\n",
        "  elif budget == 'mid' and keperluan_hasil == 'sedang' and bepergian_hasil == 'irit':\n",
        "    rekomendasi = 11\n",
        "  elif budget == 'mid' and keperluan_hasil == 'sedang' and bepergian_hasil == 'boros':\n",
        "    rekomendasi = 12\n",
        "  elif budget == 'mid' and keperluan_hasil == 'berat' and bepergian_hasil == 'irit':\n",
        "    rekomendasi = 7\n",
        "  elif budget == 'mid' and keperluan_hasil == 'berat' and bepergian_hasil == 'boros':\n",
        "    rekomendasi = 8\n",
        "  elif budget == 'high' and keperluan_hasil == 'ringan' and bepergian_hasil == 'irit':\n",
        "    rekomendasi = 5\n",
        "  elif budget == 'high' and keperluan_hasil == 'ringan' and bepergian_hasil == 'boros':\n",
        "    rekomendasi = 6\n",
        "  elif budget == 'high' and keperluan_hasil == 'sedang' and bepergian_hasil == 'irit':\n",
        "    rekomendasi = 13\n",
        "  elif budget == 'high' and keperluan_hasil == 'sedang' and bepergian_hasil == 'boros':\n",
        "    rekomendasi = 14\n",
        "  elif budget == 'high' and keperluan_hasil == 'berat' and bepergian_hasil == 'irit':\n",
        "    rekomendasi = 9\n",
        "  elif budget == 'high' and keperluan_hasil == 'berat' and bepergian_hasil == 'boros':\n",
        "    rekomendasi = 10\n",
        "  else:\n",
        "    rekomendasi = 'unknown'\n",
        "  print_recommendation(rekomendasi)\n",
        "\n",
        "  #evaluation of reason\n",
        "  print_reason(budget, keperluan_hasil, bepergian_hasil)\n",
        "\n",
        "  if(not ask_reset()):\n",
        "    flag = False"
      ],
      "execution_count": null,
      "outputs": [
        {
          "output_type": "stream",
          "text": [
            "Selamat Datang di SISTEM REKOMENDASI LAPTOP\n",
            "Sistem ini berusaha untuk menentukan Laptop yang sesuai untuk anda\n",
            "Sistem ini akan bertanya tentang kebutuhan, dan budget anda\n",
            "Dari informasi yang didapatkan, sistem mampu menentukan Laptop yang tepat untuk anda\n",
            "Silahkan press RETURN untuk melanjutkan\n",
            "Berapa total budget anda untuk membeli Laptop yang diinginkan?\n",
            "Silahkan masukkan budget tanpa koma, contoh: 5000000!\n",
            "12000000\n",
            "Untuk apa anda memerlukan Laptop baru? (Pilih nomor!) \n",
            "1. Pekerjaan/Perkuliahan\n",
            "2. Desain/Editor\n",
            "3. Gaming\n",
            "3\n",
            "Apakah anda sering bepergian menggunakan Laptop: \n",
            "Iya\n",
            "Tidak\n",
            "Iya\n",
            "Rekomendasi Laptop untuk anda adalah Acer Nitro 5 2021.\n",
            "Alasan sistem merekomendasi laptop ini karena sesuai dengan keperluan anda.\n",
            "Untuk exit sistem ini silahkan ketik 'e'. Jika ingin memulai dari awal ketik 'r': r\n",
            "Selamat Datang di SISTEM REKOMENDASI LAPTOP\n",
            "Sistem ini berusaha untuk menentukan Laptop yang sesuai untuk anda\n",
            "Sistem ini akan bertanya tentang kebutuhan, dan budget anda\n",
            "Dari informasi yang didapatkan, sistem mampu menentukan Laptop yang tepat untuk anda\n",
            "Silahkan press RETURN untuk melanjutkan\n",
            "Berapa total budget anda untuk membeli Laptop yang diinginkan?\n",
            "Silahkan masukkan budget tanpa koma, contoh: 5000000!\n",
            "8500000\n",
            "Untuk apa anda memerlukan Laptop baru? (Pilih nomor!) \n",
            "1. Pekerjaan/Perkuliahan\n",
            "2. Desain/Editor\n",
            "3. Gaming\n",
            "2\n",
            "Apakah anda sering bepergian menggunakan Laptop: \n",
            "Iya\n",
            "Tidak\n",
            "Tidak\n",
            "Rekomendasi Laptop untuk anda adalah Acer Aspire 5 Ryzen 4000.\n",
            "Alasan sistem merekomendasi laptop ini karena sesuai dengan keperluan anda.\n",
            "Untuk exit sistem ini silahkan ketik 'e'. Jika ingin memulai dari awal ketik 'r': e\n"
          ],
          "name": "stdout"
        }
      ]
    }
  ]
}